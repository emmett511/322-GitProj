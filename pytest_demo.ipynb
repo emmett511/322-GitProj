{
  "cells": [
    {
      "cell_type": "markdown",
      "metadata": {
        "id": "view-in-github",
        "colab_type": "text"
      },
      "source": [
        "<a href=\"https://colab.research.google.com/github/emmett511/322-GitProj/blob/main/pytest_demo.ipynb\" target=\"_parent\"><img src=\"https://colab.research.google.com/assets/colab-badge.svg\" alt=\"Open In Colab\"/></a>"
      ]
    },
    {
      "cell_type": "markdown",
      "id": "a68dd7e8",
      "metadata": {
        "id": "a68dd7e8"
      },
      "source": [
        "# 🧪 Unit Testing in Python with pytest\n",
        "\n",
        "This notebook demonstrates how to perform unit testing using the `pytest` framework inside Jupyter Notebooks."
      ]
    },
    {
      "cell_type": "code",
      "execution_count": null,
      "id": "916a2ea3",
      "metadata": {
        "colab": {
          "base_uri": "https://localhost:8080/"
        },
        "id": "916a2ea3",
        "outputId": "f4bca18d-31c2-4358-e196-59e733f9dcf5"
      },
      "outputs": [
        {
          "output_type": "stream",
          "name": "stdout",
          "text": [
            "Requirement already satisfied: pytest in /usr/local/lib/python3.11/dist-packages (8.3.5)\n",
            "Collecting ipytest\n",
            "  Downloading ipytest-0.14.2-py3-none-any.whl.metadata (17 kB)\n",
            "Requirement already satisfied: iniconfig in /usr/local/lib/python3.11/dist-packages (from pytest) (2.1.0)\n",
            "Requirement already satisfied: packaging in /usr/local/lib/python3.11/dist-packages (from pytest) (24.2)\n",
            "Requirement already satisfied: pluggy<2,>=1.5 in /usr/local/lib/python3.11/dist-packages (from pytest) (1.5.0)\n",
            "Requirement already satisfied: ipython in /usr/local/lib/python3.11/dist-packages (from ipytest) (7.34.0)\n",
            "Requirement already satisfied: setuptools>=18.5 in /usr/local/lib/python3.11/dist-packages (from ipython->ipytest) (75.2.0)\n",
            "Collecting jedi>=0.16 (from ipython->ipytest)\n",
            "  Downloading jedi-0.19.2-py2.py3-none-any.whl.metadata (22 kB)\n",
            "Requirement already satisfied: decorator in /usr/local/lib/python3.11/dist-packages (from ipython->ipytest) (4.4.2)\n",
            "Requirement already satisfied: pickleshare in /usr/local/lib/python3.11/dist-packages (from ipython->ipytest) (0.7.5)\n",
            "Requirement already satisfied: traitlets>=4.2 in /usr/local/lib/python3.11/dist-packages (from ipython->ipytest) (5.7.1)\n",
            "Requirement already satisfied: prompt-toolkit!=3.0.0,!=3.0.1,<3.1.0,>=2.0.0 in /usr/local/lib/python3.11/dist-packages (from ipython->ipytest) (3.0.50)\n",
            "Requirement already satisfied: pygments in /usr/local/lib/python3.11/dist-packages (from ipython->ipytest) (2.18.0)\n",
            "Requirement already satisfied: backcall in /usr/local/lib/python3.11/dist-packages (from ipython->ipytest) (0.2.0)\n",
            "Requirement already satisfied: matplotlib-inline in /usr/local/lib/python3.11/dist-packages (from ipython->ipytest) (0.1.7)\n",
            "Requirement already satisfied: pexpect>4.3 in /usr/local/lib/python3.11/dist-packages (from ipython->ipytest) (4.9.0)\n",
            "Requirement already satisfied: parso<0.9.0,>=0.8.4 in /usr/local/lib/python3.11/dist-packages (from jedi>=0.16->ipython->ipytest) (0.8.4)\n",
            "Requirement already satisfied: ptyprocess>=0.5 in /usr/local/lib/python3.11/dist-packages (from pexpect>4.3->ipython->ipytest) (0.7.0)\n",
            "Requirement already satisfied: wcwidth in /usr/local/lib/python3.11/dist-packages (from prompt-toolkit!=3.0.0,!=3.0.1,<3.1.0,>=2.0.0->ipython->ipytest) (0.2.13)\n",
            "Downloading ipytest-0.14.2-py3-none-any.whl (18 kB)\n",
            "Downloading jedi-0.19.2-py2.py3-none-any.whl (1.6 MB)\n",
            "\u001b[2K   \u001b[90m━━━━━━━━━━━━━━━━━━━━━━━━━━━━━━━━━━━━━━━━\u001b[0m \u001b[32m1.6/1.6 MB\u001b[0m \u001b[31m24.6 MB/s\u001b[0m eta \u001b[36m0:00:00\u001b[0m\n",
            "\u001b[?25hInstalling collected packages: jedi, ipytest\n",
            "Successfully installed ipytest-0.14.2 jedi-0.19.2\n"
          ]
        }
      ],
      "source": [
        "!pip install pytest ipytest"
      ]
    },
    {
      "cell_type": "markdown",
      "id": "f75a4ac7",
      "metadata": {
        "id": "f75a4ac7"
      },
      "source": [
        "## Step 1: Define Functions to Test"
      ]
    },
    {
      "cell_type": "code",
      "execution_count": null,
      "id": "4b62c3ca",
      "metadata": {
        "id": "4b62c3ca"
      },
      "outputs": [],
      "source": [
        "\n",
        "# calculator.py code inline\n",
        "def add(a, b):\n",
        "    return a + b\n",
        "\n",
        "def divide(a, b):\n",
        "    if b == 0:\n",
        "        raise ValueError(\"Cannot divide by zero\")\n",
        "    return a / b\n"
      ]
    },
    {
      "cell_type": "markdown",
      "id": "4394695a",
      "metadata": {
        "id": "4394695a"
      },
      "source": [
        "## Step 2: Configure ipytest"
      ]
    },
    {
      "cell_type": "code",
      "execution_count": null,
      "id": "ce4c2a87",
      "metadata": {
        "id": "ce4c2a87"
      },
      "outputs": [],
      "source": [
        "\n",
        "import ipytest\n",
        "import pytest\n",
        "ipytest.autoconfig()\n"
      ]
    },
    {
      "cell_type": "markdown",
      "source": [
        "ipytest.autoconfig()\n",
        "This automatically configures ipytest to work seamlessly in your notebook.\n",
        "\n",
        "It:\n",
        "\n",
        "Sets up internal test discovery.\n",
        "\n",
        "Ensures compatibility between the notebook and pytest.\n",
        "\n",
        "Makes it possible to run test functions using ipytest.run() without needing command-line options."
      ],
      "metadata": {
        "id": "y4JSmuXP4agr"
      },
      "id": "y4JSmuXP4agr"
    },
    {
      "cell_type": "markdown",
      "id": "eac3449d",
      "metadata": {
        "id": "eac3449d"
      },
      "source": [
        "## Step 3: Write and Run Tests"
      ]
    },
    {
      "cell_type": "markdown",
      "source": [
        "🧪 Unit Testing Functions with pytest and ipytest\n",
        "The following code defines a set of unit tests for two functions: add and divide. It uses the pytest framework along with ipytest to run the tests interactively within a Jupyter Notebook.\n",
        "\n",
        "Code Breakdown:\n",
        "test_add():\n",
        "Tests the add function with basic cases:\n",
        "\n",
        "add(2, 3) should return 5.\n",
        "\n",
        "add(-1, 1) should return 0.\n",
        "\n",
        "test_divide():\n",
        "Tests the divide function:\n",
        "\n",
        "divide(10, 2) should return 5.\n",
        "\n",
        "divide(3, 2) should return 1.5.\n",
        "\n",
        "test_divide_by_zero():\n",
        "Ensures the divide function raises a ValueError when trying to divide by zero, which is a good practice to handle such edge cases.\n",
        "\n",
        "ipytest.run():\n",
        "Executes all the defined test functions within the Jupyter Notebook environment.\n",
        "\n",
        "💡 Note: Make sure ipytest, pytest, and the functions add and divide are defined/imported in your notebook before running these tests."
      ],
      "metadata": {
        "id": "rhD-RGy-3Env"
      },
      "id": "rhD-RGy-3Env"
    },
    {
      "cell_type": "code",
      "execution_count": null,
      "id": "7c654f35",
      "metadata": {
        "colab": {
          "base_uri": "https://localhost:8080/"
        },
        "id": "7c654f35",
        "outputId": "041294c6-0dd8-440f-cb99-033b5a5c9820"
      },
      "outputs": [
        {
          "output_type": "stream",
          "name": "stdout",
          "text": [
            "\u001b[32m.\u001b[0m\u001b[32m.\u001b[0m\u001b[32m.\u001b[0m\u001b[32m                                                                                          [100%]\u001b[0m\n",
            "\u001b[32m\u001b[32m\u001b[1m3 passed\u001b[0m\u001b[32m in 0.02s\u001b[0m\u001b[0m\n"
          ]
        },
        {
          "output_type": "execute_result",
          "data": {
            "text/plain": [
              "<ExitCode.OK: 0>"
            ]
          },
          "metadata": {},
          "execution_count": 4
        }
      ],
      "source": [
        "\n",
        "def test_add():\n",
        "    assert add(2, 3) == 5\n",
        "    assert add(-1, 1) == 0\n",
        "\n",
        "def test_divide():\n",
        "    assert divide(10, 2) == 5\n",
        "    assert divide(3, 2) == 1.5\n",
        "\n",
        "def test_divide_by_zero():\n",
        "    with pytest.raises(ValueError):\n",
        "        divide(5, 0)\n",
        "\n",
        "ipytest.run()\n"
      ]
    },
    {
      "cell_type": "markdown",
      "source": [
        "# 🧪 Pytest Assignment: Build and Test a Math Utility\n",
        "\n",
        "**Objective:**\n",
        "Create a simple math utility module with basic operations and write tests using `pytest` to ensure correctness.\n",
        "\n",
        "---\n",
        "\n",
        "## ✍️ Excercise\n",
        "\n",
        "### Part 1: Create a Python file named `math_utils.py`\n",
        "Implement the following functions:\n",
        "\n",
        "1. `multiply(a, b)` – Returns the product of `a` and `b`\n",
        "2. `subtract(a, b)` – Returns the result of `a - b`\n",
        "3. `power(base, exponent)` – Returns `base` raised to the power `exponent`\n",
        "4. `sqrt(x)` – Returns the square root of `x`. If `x` is negative, raise `ValueError`.\n",
        "\n",
        "---\n",
        "\n",
        "### Part 2: Write Tests in `test_math_utils.py`\n",
        "\n",
        "Write tests for all the above functions using `pytest`.\n",
        "- Include **at least 2 test cases per function**.\n",
        "- Include **one edge case or error-handling case** (e.g., `sqrt(-1)` should raise `ValueError`).\n",
        "\n",
        "---"
      ],
      "metadata": {
        "id": "AoSRPmEvkY9C"
      },
      "id": "AoSRPmEvkY9C"
    }
  ],
  "metadata": {
    "colab": {
      "provenance": [],
      "include_colab_link": true
    },
    "language_info": {
      "name": "python"
    },
    "kernelspec": {
      "name": "python3",
      "display_name": "Python 3"
    }
  },
  "nbformat": 4,
  "nbformat_minor": 5
}